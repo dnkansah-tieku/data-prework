{
 "cells": [
  {
   "cell_type": "markdown",
   "metadata": {},
   "source": [
    "<img src=\"https://bit.ly/2VnXWr2\" width=\"100\" align=\"left\">"
   ]
  },
  {
   "cell_type": "markdown",
   "metadata": {},
   "source": [
    "# Temperature Sensor\n",
    "\n",
    "There is a temperature sensor in the processor of your company's server. The company wants to analyze the data provided by the sensor to decide if they should change the cooling system for a better one. As changing the cooling system is expensive and you are an excellent data analyst, you can't make a decision without basis.\n",
    "\n",
    "## Tools\n",
    "You don't necessarily need to use all the tools. Maybe you opt to use some of them or completely different ones, they are given to help you shape the exercise. Programming exercises can be solved in many different ways.\n",
    "1. Data structures: **lists**\n",
    "2. Loops: **list comprehension**\n",
    "3. Functions: **min, max, print, len**\n",
    "4. Conditional statements: **if-elif-else**\n",
    "\n",
    "## Tasks\n",
    "The temperatures measured throughout the 24 hours of a day are:"
   ]
  },
  {
   "cell_type": "code",
   "execution_count": 1,
   "metadata": {},
   "outputs": [],
   "source": [
    "temperatures_C = [33, 66, 65, 0, 59, 60, 62, 64, 70, 76, 80, 81, 80, 83, 90, 79, 61, 53, 50, 49, 53, 48, 45, 39]"
   ]
  },
  {
   "cell_type": "markdown",
   "metadata": {},
   "source": [
    "The first element of the list is the temperature at 12am, the second element is the temperature at 1am, and so on. \n",
    "\n",
    "The company has decided that if one of the following events occurs, then the cooling system needs to be replaced for a new one to avoid damaging the processor.\n",
    "* More than 4 temperatures are greater than or equal to 70ºC.\n",
    "* Any temperature is above 80ºC.\n",
    "* The average temperature exceeds 65ºC.\n",
    "\n",
    "Follow the steps so that you can make the decision.\n",
    "\n",
    "#### 1. Find the minimum temperature of the day and store it in a variable."
   ]
  },
  {
   "cell_type": "code",
   "execution_count": 2,
   "metadata": {},
   "outputs": [
    {
     "name": "stdout",
     "output_type": "stream",
     "text": [
      "Minimum temperature:  0\n"
     ]
    }
   ],
   "source": [
    "min_temp = min(temperatures_C)\n",
    "\n",
    "print(\"Minimum temperature: \", min_temp)"
   ]
  },
  {
   "cell_type": "markdown",
   "metadata": {},
   "source": [
    "#### 2. Find the maximum temperature of the day and store it in a variable."
   ]
  },
  {
   "cell_type": "code",
   "execution_count": 3,
   "metadata": {},
   "outputs": [
    {
     "name": "stdout",
     "output_type": "stream",
     "text": [
      "Maximum temperature:  90\n"
     ]
    }
   ],
   "source": [
    "max_temp = max(temperatures_C)\n",
    "\n",
    "print(\"Maximum temperature: \", max_temp)"
   ]
  },
  {
   "cell_type": "markdown",
   "metadata": {},
   "source": [
    "#### 3. Create a list with the temperatures that are greater than or equal to 70ºC. Store it in a variable."
   ]
  },
  {
   "cell_type": "code",
   "execution_count": 5,
   "metadata": {},
   "outputs": [
    {
     "name": "stdout",
     "output_type": "stream",
     "text": [
      "Temperatures greater than or equal to 70:  [70, 76, 80, 81, 80, 83, 90, 79]\n"
     ]
    }
   ],
   "source": [
    "greaterThanOrEqual70 = []\n",
    "for items in temperatures_C:\n",
    "\tif items >= 70:\n",
    "\t\tgreaterThanOrEqual70.append(items)\n",
    "\n",
    "print(\"Temperatures greater than or equal to 70: \", greaterThanOrEqual70)"
   ]
  },
  {
   "cell_type": "markdown",
   "metadata": {},
   "source": [
    "#### 4. Find the average temperature of the day and store it in a variable."
   ]
  },
  {
   "cell_type": "code",
   "execution_count": 6,
   "metadata": {},
   "outputs": [
    {
     "name": "stdout",
     "output_type": "stream",
     "text": [
      "Average Temperature:  60.25\n"
     ]
    }
   ],
   "source": [
    "AverageTemp = sum(temperatures_C)/len(temperatures_C)\n",
    "\n",
    "print(\"Average Temperature: \", AverageTemp)"
   ]
  },
  {
   "cell_type": "markdown",
   "metadata": {},
   "source": [
    "#### 5. Imagine that there was a sensor failure at 3am and the data for that specific hour was not recorded. How would you estimate the missing value? Replace the current value of the list at 3am for an estimation. "
   ]
  },
  {
   "cell_type": "code",
   "execution_count": 7,
   "metadata": {},
   "outputs": [
    {
     "name": "stdout",
     "output_type": "stream",
     "text": [
      "Estimated temperature at 3am due to sensor failure is:  65.5\n"
     ]
    }
   ],
   "source": [
    "Estimation = (temperatures_C[1] + temperatures_C[2]) / 2\n",
    "\n",
    "print(\"Estimated temperature at 3am due to sensor failure is: \", Estimation)"
   ]
  },
  {
   "cell_type": "markdown",
   "metadata": {},
   "source": [
    "#### 6. Bonus: the maintenance staff is from the United States and does not understand the international metric system. Help them by converting the temperatures from Celsius to Fahrenheit.\n",
    "To know more about temperature conversion check this [link](https://en.wikipedia.org/wiki/Conversion_of_units_of_temperature).\n",
    "\n",
    "**Formula**: \n",
    "\n",
    "$F = 1.8 * C + 32$"
   ]
  },
  {
   "cell_type": "code",
   "execution_count": 3,
   "metadata": {},
   "outputs": [
    {
     "name": "stdout",
     "output_type": "stream",
     "text": [
      "[91.4, 150.8, 149.0, 32.0, 138.2, 140.0, 143.60000000000002, 147.2, 158.0, 168.8, 176.0, 177.8, 176.0, 181.4, 194.0, 174.20000000000002, 141.8, 127.4, 122.0, 120.2, 127.4, 118.4, 113.0, 102.2]\n"
     ]
    }
   ],
   "source": [
    "temperature_F = []\n",
    "def conversion():\n",
    "\t\n",
    "\n",
    "\tfor i in temperatures_C:\n",
    "\t\ttemperature_F.append(1.8 * i + 32)\n",
    "\n",
    "\n",
    "\tprint(temperature_F,)\n",
    "\n",
    "conversion()"
   ]
  },
  {
   "cell_type": "markdown",
   "metadata": {},
   "source": [
    "#### 7. Make a decision!\n",
    "Now it's time to make a decision taking into account what you have seen until now. \n",
    "\n",
    "Remember that if one of the following events occurs, then the cooling system needs to be replaced for a new one to avoid damaging the processor.\n",
    "* More than 4 temperatures are greater than or equal to 70ºC.\n",
    "* Any temperature is above 80ºC.\n",
    "* The average temperature exceeds 65ºC.\n",
    "\n",
    "#### To make your decision, check if any of the three conditions above is met. You might need to use some of the variables you created in steps 1 to 6. Print a message to show if the cooling system needs to be changed or not."
   ]
  },
  {
   "cell_type": "code",
   "execution_count": 9,
   "metadata": {},
   "outputs": [
    {
     "name": "stdout",
     "output_type": "stream",
     "text": [
      "True\n",
      "the cooling system needs to be replaced because some temperatures exceed 80 degress\n"
     ]
    }
   ],
   "source": [
    "y = len(greaterThanOrEqual70)\n",
    "\n",
    "AllExceeds80 = \"\"\n",
    "\n",
    "for i in temperatures_C:\n",
    "\tif i >= 80:\n",
    "\t\tAllExceeds80 = True \n",
    "\n",
    "print(AllExceeds80)\n",
    "\n",
    "AverageTemp > 65\n",
    "\n",
    "\n",
    "if y < 4:\n",
    "\tprint(\"the cooling system needs to be replaced because \", y,\"temperatures exceeds the threshold\")\n",
    "elif AllExceeds80 == True:\n",
    "\tprint(\"the cooling system needs to be replaced because some temperatures exceed 80 degress\")\n",
    "elif AverageTemp > 65:\n",
    "\tprint(\"the cooling system needs to be replaced because average temperature exceeds 65 degrees\")\n",
    "else:\n",
    "\tprint(\"The cooling system operates fine and needs to be maintained\")"
   ]
  },
  {
   "cell_type": "markdown",
   "metadata": {},
   "source": [
    "## Bonus\n",
    "\n",
    "The company has decided that the decision you made is not valid. They want you to analyze the data again but this time, the conditions that need to be met in order to change the cooling system are different.\n",
    "\n",
    "This time, if one of the following events occurs, then the cooling system needs to be replaced:\n",
    "* The temperature is greater than 70ºC during more than 4 consecutive hours.\n",
    "* Any temperature is above 80ºC.\n",
    "* The average temperature exceeds 65ºC.\n",
    "\n",
    "Follow the steps so that you can make the decision.\n",
    "\n",
    "#### 1. Create a list with the hours where the temperature is greater than 70ºC. Store it in a variable."
   ]
  },
  {
   "cell_type": "code",
   "execution_count": 10,
   "metadata": {},
   "outputs": [
    {
     "name": "stdout",
     "output_type": "stream",
     "text": [
      "[(0, '12 AM'), (1, '01 AM'), (2, '02 AM'), (3, '03 AM'), (4, '04 AM'), (5, '05 AM'), (6, '06 AM'), (7, '07 AM'), (8, '08 AM'), (9, '09 AM'), (10, '10 AM'), (11, '11 AM'), (12, '12 PM'), (13, '01 PM'), (14, '02 PM'), (15, '03 PM'), (16, '04 PM'), (17, '05 PM'), (18, '06 PM'), (19, '07 PM'), (20, '08 PM'), (21, '09 PM'), (22, '10 PM'), (23, '11 PM')]\n",
      "24\n",
      "[(9, '09 AM'), (10, '10 AM'), (11, '11 AM'), (12, '12 PM'), (13, '01 PM'), (14, '02 PM'), (15, '03 PM')]\n"
     ]
    }
   ],
   "source": [
    "hours = []\n",
    "import datetime as dt\n",
    "hours = [(i, dt.time(i).strftime('%I %p')) for i in range(24)]\n",
    "\n",
    "print(hours)\n",
    "\n",
    "hours = list(hours)\n",
    "print(len(hours))\n",
    "\n",
    "hrsWithTemp70More = []\n",
    "\n",
    "for i,j in zip(temperatures_C, hours):\n",
    "\tif i > 70:\n",
    "\t\thrsWithTemp70More.append(j)\n",
    "\n",
    "print(hrsWithTemp70More)"
   ]
  },
  {
   "cell_type": "markdown",
   "metadata": {},
   "source": [
    "#### 2. Check if the list you created in step 1 has more than 4 consecutive hours. "
   ]
  },
  {
   "cell_type": "code",
   "execution_count": 11,
   "metadata": {},
   "outputs": [
    {
     "name": "stdout",
     "output_type": "stream",
     "text": [
      "[9, 10, 11, 12, 13, 14, 15]\n",
      "5\n"
     ]
    }
   ],
   "source": [
    "num=[]\n",
    "\n",
    "\n",
    "for x in hrsWithTemp70More:\n",
    "\tnum.append(x[0])\n",
    "\n",
    "print(num)\n",
    "\n",
    "count = 0\n",
    "\n",
    "for i in range(len(num) -1) :\n",
    "\tif num[i]== num[i-1] + 1:\n",
    "\t\tcount += 1\n",
    "\n",
    "print(count)"
   ]
  },
  {
   "cell_type": "markdown",
   "metadata": {},
   "source": [
    "#### 3. Make the decision!\n",
    "To make your decision, check if any of the three conditions is met. Print a message to show if the cooling system needs to be changed or not."
   ]
  },
  {
   "cell_type": "code",
   "execution_count": 12,
   "metadata": {},
   "outputs": [
    {
     "name": "stdout",
     "output_type": "stream",
     "text": [
      "the cooling system needs to be replaced because there are 5 consecutive hours where temperature is greater than 70°.\n"
     ]
    }
   ],
   "source": [
    "\n",
    "if count > 4:\n",
    "\tprint(\"the cooling system needs to be replaced because there are\", count,  \"consecutive hours where temperature is greater than 70°.\")\n",
    "elif AllExceeds80 == True:\n",
    "\tprint(\"the cooling system needs to be replaced because some temperatures exceed 80 degress\")\n",
    "elif AverageTemp > 65:\n",
    "\tprint(\"the cooling system needs to be replaced because average temperature exceeds 65 degrees\")\n",
    "else:\n",
    "\tprint(\"The cooling system operates fine and needs to be maintained\")\n"
   ]
  },
  {
   "cell_type": "markdown",
   "metadata": {},
   "source": [
    "#### 4. Find the average value of the temperature lists (ºC and ºF). What is the relation between both average values?"
   ]
  },
  {
   "cell_type": "code",
   "execution_count": 15,
   "metadata": {},
   "outputs": [
    {
     "name": "stdout",
     "output_type": "stream",
     "text": [
      "60.25\n",
      "140.45\n",
      "['°C:', 60.25, 'F:', 140.45]\n"
     ]
    }
   ],
   "source": [
    "print(AverageTemp)\n",
    "avg_temp_F = sum(temperature_F) / len(temperature_F)\n",
    "print(avg_temp_F)\n",
    "\n",
    "average_values = [\"°C:\", AverageTemp, \"F:\", avg_temp_F]\n",
    "print(average_values)\n",
    "\n",
    "# the average of the temperatures in degree celsuis is almost twice the Fahrenheit"
   ]
  },
  {
   "cell_type": "markdown",
   "metadata": {},
   "source": [
    "#### 5. Find the standard deviation of the temperature lists (ºC and ºF). What is the relation between both standard deviations?"
   ]
  },
  {
   "cell_type": "code",
   "execution_count": 16,
   "metadata": {},
   "outputs": [
    {
     "name": "stdout",
     "output_type": "stream",
     "text": [
      "19.285681216902866\n",
      "19.285681216902866\n"
     ]
    }
   ],
   "source": [
    "from numpy import std\n",
    "\n",
    "# standard deviation for temperatures in degrees celsuis\n",
    "\n",
    "Standard_deviation_C = std(temperatures_C)\n",
    "print(Standard_deviation_C,)\n",
    "\n",
    "\n",
    "# standard deviation for temperatures in Fahrenheit\n",
    "\n",
    "Standard_deviation_F = std(temperature_F)\n",
    "print(Standard_deviation_C,)\n",
    "\n",
    "# The standard devetion of the two temperatures are the same."
   ]
  },
  {
   "cell_type": "code",
   "execution_count": null,
   "metadata": {},
   "outputs": [],
   "source": []
  }
 ],
 "metadata": {
  "kernelspec": {
   "display_name": "Python 3",
   "language": "python",
   "name": "python3"
  },
  "language_info": {
   "codemirror_mode": {
    "name": "ipython",
    "version": 3
   },
   "file_extension": ".py",
   "mimetype": "text/x-python",
   "name": "python",
   "nbconvert_exporter": "python",
   "pygments_lexer": "ipython3",
   "version": "3.7.3"
  }
 },
 "nbformat": 4,
 "nbformat_minor": 2
}
