{
 "cells": [
  {
   "cell_type": "markdown",
   "metadata": {},
   "source": [
    "<img src=\"https://bit.ly/2VnXWr2\" width=\"100\" align=\"left\"/>"
   ]
  },
  {
   "cell_type": "markdown",
   "metadata": {},
   "source": [
    "# Robin Hood\n",
    "Robin Hood has entered a competition to win the archery contest in Sherwood. With his bow and arrows, he needs to shoot on a target and try to hit as close as possible to the center.\n",
    "\n",
    "![](images/arrows.jpg)\n",
    "\n",
    "## Context\n",
    "In this challenge, the landing position of arrows shot by archers in the competition will be represented using 2-dimensional coordinates. \n",
    "\n",
    "In the 2-dimensional space, a point can be defined by a pair of values that correspond to the horizontal coordinate (x) and the vertical coordinate (y). For example, in our case, an arrow that hits the center of the archery target will land in position (0, 0) on the coordinate axes. \n",
    "\n",
    "The space can be divided into 4 zones (quadrants): Q1, Q2, Q3, Q4. If a point is in Q1, both its x coordinate and y coordinate are positive. Any point with a null x or y coordinate is considered to not belong to any quadrant. \n",
    "\n",
    "If you want to know more about the cartesian coordinate system, you can check this [link](https://en.wikipedia.org/wiki/Cartesian_coordinate_system). \n",
    "\n",
    "## Tools\n",
    "You don't necessarily need to use all the tools. Maybe you opt to use some of them or completely different ones, they are given to help you shape the exercise. Programming exercises can be solved in many different ways.\n",
    "* Data structures: **lists, sets, tuples**\n",
    "* Conditional statements: **if-elif-else**\n",
    "* Loop: **while/for**\n",
    "* Minimum (optional sorting)\n",
    "\n",
    "## Tasks\n",
    "Robin Hood has hit the following points:"
   ]
  },
  {
   "cell_type": "code",
   "execution_count": 4,
   "metadata": {},
   "outputs": [],
   "source": [
    "points = [(4, 5), (-0, 2), (4, 7), (1, -3), (3, -2), (4, 5), (3, 2), (5, 7), (-5, 7), (2, 2), (-4, 5), (0, -2),\n",
    "          (-4, 7), (-1, 3), (-3, 2), (-4, -5), (-3, 2), (5, 7), (5, 7), (2, 2), (9, 9), (-8, -9)]"
   ]
  },
  {
   "cell_type": "markdown",
   "metadata": {},
   "source": [
    "#### 1. Robin Hood is famous for hitting an arrow with another arrow. Find the coordinates of the points where an arrow hits another arrow."
   ]
  },
  {
   "cell_type": "code",
   "execution_count": null,
   "metadata": {},
   "outputs": [],
   "source": [
    "x_coord = []\n",
    "y_coord = []\n",
    "\n",
    "for x in points:\n",
    "\tprint(\"xx\", x[0])\n",
    "\tx_coord.append(x[0])\n",
    "\ty_coord.append(x[1])\n",
    "\n",
    "print(x_coord)\n",
    "print(y_coord)\n",
    "\n",
    "\n",
    "xpoints = []\n",
    "ypoints = []\n",
    "\n",
    "for item in points:\n",
    "\tmatches = -1\n",
    "\tfor x in points:\n",
    "\t\tif (item[0] == x[0]) & (item[1] == x[1]):\n",
    "\t\t\txpoints.append(x[0])\n",
    "\t\t\typoints.append(x[1])\n",
    "\n",
    "print(\"xpoints: \", xpoints)\n",
    "\n",
    "print(\"ypoints: \", ypoints)\n",
    "\n",
    "\n",
    "# I am not getting the desired output, I'll continue to polish the codes "
   ]
  },
  {
   "cell_type": "markdown",
   "metadata": {},
   "source": [
    "#### 2. Calculate how many arrows have fallen in each quadrant. \n",
    "**Note**: the arrows that fall in the axis (x=0 or y=0) don't belong to any quadrant."
   ]
  },
  {
   "cell_type": "code",
   "execution_count": 5,
   "metadata": {},
   "outputs": [
    {
     "name": "stdout",
     "output_type": "stream",
     "text": [
      "Q1:  10\n",
      "Q2:  6\n",
      "Q3:  2\n",
      "Q4:  0\n",
      "no_quadrant:  4\n"
     ]
    }
   ],
   "source": [
    "Q1 = 0     # First Quadrant\n",
    "Q2 = 0     # Second Quadrant\n",
    "Q3 = 0     # Third Quadrant\n",
    "Q4 = 0     # Fourth Quadrant\n",
    "Q5 = 0     # No Quadrant\n",
    "\n",
    "for x in points:\n",
    "    if (x[0] > 0) & (x[1] > 0):\n",
    "    \tQ1 += 1\n",
    "    elif (x[0] < 0) & (x[1] > 0):\n",
    "    \tQ2 += 1\n",
    "    elif (x[0] < 0) & (x[1] < 0):\n",
    "    \tQ3 += 1\n",
    "    elif (x[0] > 0) & (x[1] > 0):\n",
    "    \tQ4 += 1\n",
    "    else:\n",
    "    \tQ5 += 1\n",
    "    \t\n",
    "print(\"Q1: \", Q1)\n",
    "print(\"Q2: \", Q2)\n",
    "print(\"Q3: \", Q3)\n",
    "print(\"Q4: \", Q4)\n",
    "print(\"no_quadrant: \", Q5)\n"
   ]
  },
  {
   "cell_type": "markdown",
   "metadata": {},
   "source": [
    "#### 3. Find the point closest to the center. Calculate its distance to the center. \n",
    "Take into account that there might be more than one point at the minimum distance to the center.\n",
    "\n",
    "**Hint**: Use the Euclidean distance. You can find more information about it [here](https://en.wikipedia.org/wiki/Euclidean_distance).  \n",
    "**Hint**: Defining a function that calculates the distance to the center can help."
   ]
  },
  {
   "cell_type": "code",
   "execution_count": 6,
   "metadata": {},
   "outputs": [
    {
     "name": "stdout",
     "output_type": "stream",
     "text": [
      "Magnitude:  [6.4031242374328485, 2.0, 8.06225774829855, 3.1622776601683795, 3.605551275463989, 6.4031242374328485, 3.605551275463989, 8.602325267042627, 8.602325267042627, 2.8284271247461903, 6.4031242374328485, 2.0, 8.06225774829855, 3.1622776601683795, 3.605551275463989, 6.4031242374328485, 3.605551275463989, 8.602325267042627, 8.602325267042627, 2.8284271247461903, 12.727922061357855, 12.041594578792296]\n",
      "Closest point to the centre:  2.0\n"
     ]
    }
   ],
   "source": [
    "sum_of_square = []\n",
    "\n",
    "import math\n",
    "\n",
    "for x in points:\n",
    "\tsum_of_square.append(math.sqrt(x[0]*x[0] + x[1]*x[1]))\n",
    "\n",
    "print(\"Magnitude: \", sum_of_square)\n",
    "\n",
    "x = min(sum_of_square)\n",
    "print(\"Closest point to the centre: \", x)"
   ]
  },
  {
   "cell_type": "markdown",
   "metadata": {},
   "source": [
    "#### 4. If the archery target has a radius of 9, calculate the number of arrows that won't hit the target. \n",
    "**Hint**: Use the function created in step 3. "
   ]
  },
  {
   "cell_type": "code",
   "execution_count": 7,
   "metadata": {},
   "outputs": [
    {
     "name": "stdout",
     "output_type": "stream",
     "text": [
      "Number of arrows that wont hit the target:  2\n"
     ]
    }
   ],
   "source": [
    "radius = 0\n",
    "\n",
    "for i in sum_of_square:\n",
    "\tif i >= 9:\n",
    "\t\tradius += 1\n",
    "\n",
    "print(\"Number of arrows that wont hit the target: \", radius)"
   ]
  },
  {
   "cell_type": "code",
   "execution_count": null,
   "metadata": {},
   "outputs": [],
   "source": []
  }
 ],
 "metadata": {
  "kernelspec": {
   "display_name": "Python 3",
   "language": "python",
   "name": "python3"
  },
  "language_info": {
   "codemirror_mode": {
    "name": "ipython",
    "version": 3
   },
   "file_extension": ".py",
   "mimetype": "text/x-python",
   "name": "python",
   "nbconvert_exporter": "python",
   "pygments_lexer": "ipython3",
   "version": "3.7.3"
  }
 },
 "nbformat": 4,
 "nbformat_minor": 2
}
